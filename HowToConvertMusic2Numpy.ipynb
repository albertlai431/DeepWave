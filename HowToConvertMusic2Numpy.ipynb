{
 "cells": [
  {
   "cell_type": "markdown",
   "metadata": {},
   "source": [
    "# Music To Numpy Array Converter And Numpy TO MUSIC\n",
    "Pretty simple program converts our things into numpy arrays.\n"
   ]
  },
  {
   "cell_type": "code",
   "execution_count": 3,
   "metadata": {},
   "outputs": [],
   "source": [
    "import numpy as np\n",
    "from scipy.io.wavfile import read "
   ]
  },
  {
   "cell_type": "code",
   "execution_count": 4,
   "metadata": {},
   "outputs": [],
   "source": [
    "#Add directory for your file\n",
    "a = read('D:\\SampleNoiseRecording.wav')\n",
    "#convert it to an array\n",
    "sample = np.array(a[1],dtype=float)"
   ]
  },
  {
   "cell_type": "markdown",
   "metadata": {},
   "source": [
    "# Sample Of the Noise"
   ]
  },
  {
   "cell_type": "code",
   "execution_count": 5,
   "metadata": {},
   "outputs": [
    {
     "name": "stdout",
     "output_type": "stream",
     "text": [
      "[[ 0. -1.]\n",
      " [ 0.  2.]\n",
      " [ 0. -2.]\n",
      " ...\n",
      " [18. 19.]\n",
      " [26. 24.]\n",
      " [24. 25.]]\n",
      "\n",
      "The shape is...(589312, 2) size\n"
     ]
    }
   ],
   "source": [
    "print(sample)\n",
    "print()\n",
    "print(\"The shape is...\" + str(sample.shape) + \" size\")"
   ]
  },
  {
   "cell_type": "markdown",
   "metadata": {},
   "source": [
    "# Use This Method To READ!"
   ]
  },
  {
   "cell_type": "code",
   "execution_count": 6,
   "metadata": {},
   "outputs": [],
   "source": [
    "#file is the root directory + the file name. \n",
    "def ConvertMusic(file):\n",
    "    a = read(file)\n",
    "    #convert it to an array\n",
    "    sample = np.array(a[1],dtype=float)\n",
    "    return sample"
   ]
  },
  {
   "cell_type": "markdown",
   "metadata": {},
   "source": [
    "# Use This Method To WRITE \n"
   ]
  },
  {
   "cell_type": "code",
   "execution_count": 11,
   "metadata": {},
   "outputs": [
    {
     "name": "stdout",
     "output_type": "stream",
     "text": [
      "Done Converting!\n"
     ]
    }
   ],
   "source": [
    "import numpy as np\n",
    "from scipy.io.wavfile import write\n",
    "data = a[1] \n",
    "scaled = np.int16(data/np.max(np.abs(data)) * 32767)\n",
    "#Put In Root Directory \n",
    "write('CleanAudio.wav', 44100, scaled)\n",
    "print(\"Done Converting!\")"
   ]
  },
  {
   "cell_type": "code",
   "execution_count": 12,
   "metadata": {},
   "outputs": [],
   "source": [
    "def ConvertNumpy(data):\n",
    "    scaled = np.int16(data/np.max(np.abs(data)) * 32767)\n",
    "    #Put In Root Directory \n",
    "    write('CleanAudio.wav', 44100, scaled)\n",
    "    print(\"Done Converting!\")"
   ]
  }
 ],
 "metadata": {
  "kernelspec": {
   "display_name": "Python 3",
   "language": "python",
   "name": "python3"
  },
  "language_info": {
   "codemirror_mode": {
    "name": "ipython",
    "version": 3
   },
   "file_extension": ".py",
   "mimetype": "text/x-python",
   "name": "python",
   "nbconvert_exporter": "python",
   "pygments_lexer": "ipython3",
   "version": "3.6.6"
  }
 },
 "nbformat": 4,
 "nbformat_minor": 2
}
